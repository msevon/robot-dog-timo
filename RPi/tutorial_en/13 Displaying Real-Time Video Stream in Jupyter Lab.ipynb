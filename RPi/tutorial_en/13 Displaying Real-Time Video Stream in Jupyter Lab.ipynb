{
 "cells": [
  {
   "cell_type": "markdown",
   "id": "208c7f08-d7f6-45c5-85e2-daf606cde4cb",
   "metadata": {},
   "source": [
    "# Displaying Real-Time Video Stream in Jupyter Lab\n",
    "\n",
    "In the previous chapter, we used Flask to display the real-time camera feed, a method that required opening a new tab in the browser or accessing it from another device. In this chapter, we'll explore a solution for viewing the real-time video stream directly in Jupyter Lab."
   ]
  },
  {
   "cell_type": "markdown",
   "id": "a3f02e15-82e1-4fbb-8727-636f24cd9b64",
   "metadata": {
    "jp-MarkdownHeadingCollapsed": true
   },
   "source": [
    "## Preparation\n",
    "\n",
    "Since the product automatically runs the main program at startup, which occupies the camera resource, this tutorial cannot be used in such situations. You need to terminate the main program or disable its automatic startup before restarting the robot.\n",
    "\n",
    "It's worth noting that because the robot's main program uses multi-threading and is configured to run automatically at startup through crontab, the usual method sudo killall python typically doesn't work. Therefore, we'll introduce the method of disabling the automatic startup of the main program here.\n",
    "\n",
    "### Terminate the Main Program\n",
    "\n",
    "1. Click the \"+\" icon next to the tab for this page to open a new tab called \"Launcher.\"\n",
    "2. Click on \"Terminal\" under \"Other\" to open a terminal window.\n",
    "3. Type bash into the terminal window and press Enter.\n",
    "4. Now you can use the Bash Shell to control the robot.\n",
    "5. Enter the command: crontab -e.\n",
    "6. If prompted to choose an editor, enter 1 and press Enter to select nano.\n",
    "7. After opening the crontab configuration file, you'll see the following two lines:\n",
    "> @reboot ~/ugv_pt_rpi/ugv-env/bin/python ~/ugv_pt_rpi/app.py >> ~/ugv.log 2>&1\n",
    ">\n",
    ">@reboot /bin/bash ~/ugv_pt_rpi/start_jupyter.sh >> ~/jupyter_log.log 2>&1\n",
    "\n",
    "8. Add a # character at the beginning of the line with ……app.py >> …… to comment out this line.\n",
    "> #@reboot ~/ugv_pt_rpi/ugv-env/bin/python ~/ugv_pt_rpi/app.py >> ~/ugv.log 2>&1\n",
    ">\n",
    ">@reboot /bin/bash ~/ugv_pt_rpi/start_jupyter.sh >> ~/jupyter_log.log 2>&1\n",
    "\n",
    "9. Press Ctrl + X in the terminal window to exit. It will ask you Save modified buffer? Enter Y and press Enter to save the changes.\n",
    "10. Reboot the device. Note that this process will temporarily close the current Jupyter Lab session. If you didn't comment out ……start_jupyter.sh >>…… in the previous step, you can still use Jupyter Lab normally after the robot reboots (JupyterLab and the robot's main program app.py run independently). You may need to refresh the page.\n",
    "11. One thing to note is that since the lower machine continues to communicate with the upper machine through the serial port, the upper machine may not start up properly during the restart process due to the continuous change of serial port levels. Taking the case where the upper machine is a Raspberry Pi, after the Raspberry Pi is shut down and the green LED is constantly on without the green LED blinking, you can turn off the power switch of the robot, then turn it on again, and the robot will restart normally.\n",
    "12. Enter the reboot command: sudo reboot.\n",
    "13. After waiting for the device to restart (during the restart process, the green LED of the Raspberry Pi will blink, and when the frequency of the green LED blinking decreases or goes out, it means that the startup is successful), refresh the page and continue with the remaining part of this tutorial."
   ]
  },
  {
   "cell_type": "markdown",
   "id": "6f8942b4-7f23-43b8-a73c-1542b9e9de27",
   "metadata": {},
   "source": [
    "## Example\n",
    "\n",
    "The following code block can be run directly:\n",
    "\n",
    "1. Select the code block below.\n",
    "2. Press Shift + Enter to run the code block.\n",
    "3. Watch the real-time video window.\n",
    "4. Press STOP to close the real-time video and release the camera resources.\n",
    "\n",
    "### If you cannot see the real-time camera feed when running:\n",
    "\n",
    "- Click on Kernel -> Shut down all kernels above.\n",
    "- Close the current section tab and open it again.\n",
    "- Click `STOP` to release the camera resources, then run the code block again.\n",
    "- Reboot the device.\n"
   ]
  },
  {
   "cell_type": "code",
   "execution_count": null,
   "id": "bd426239-12fd-4ec9-a555-bd848af57f63",
   "metadata": {},
   "outputs": [],
   "source": [
    "import matplotlib.pyplot as plt  # Import the matplotlib library for plotting\n",
    "import cv2  # Import the OpenCV library for image processing\n",
    "from picamera2 import Picamera2  # Import the Picamera2 library for accessing the Raspberry Pi Camera\n",
    "import numpy as np  # Import the NumPy library for mathematical computations\n",
    "from IPython.display import display, Image  # Import IPython display functionality\n",
    "import ipywidgets as widgets  # Import the ipywidgets library for creating interactive widgets\n",
    "import threading  # Import the threading library for multithreading\n",
    "\n",
    "# Create a toggle button as a stop button\n",
    "stopButton = widgets.ToggleButton(\n",
    "    value=False,  # The initial state of the button is unselected\n",
    "    description='Stop',  # Text displayed on the button\n",
    "    disabled=False,  # The button is initially enabled\n",
    "    button_style='danger',  # The button style is red\n",
    "    tooltip='Description',  # Tooltip displayed when hovering over the button\n",
    "    icon='square'  # Icon displayed on the button\n",
    ")\n",
    "\n",
    "# Define a function for displaying the video stream\n",
    "def view(button):\n",
    "    # If you are using a CSI camera, uncomment the picam2 related code below, \n",
    "    # and comment out the camera related code.\n",
    "    # This is because the latest version of OpenCV (4.9.0.80) no longer supports CSI cameras, \n",
    "    # and you need to use picamera2 to capture camera images.\n",
    "    \n",
    "    # picam2 = Picamera2()  # Create an instance of Picamera2\n",
    "    # Configure camera parameters, set video format and size\n",
    "    # picam2.configure(picam2.create_video_configuration(main={\"format\": 'XRGB8888', \"size\": (640, 480)}))\n",
    "    # picam2.start()  # Start the camera\n",
    "    \n",
    "    camera = cv2.VideoCapture(-1)\n",
    "    camera.set(cv2.CAP_PROP_FRAME_WIDTH, 640)\n",
    "    camera.set(cv2.CAP_PROP_FRAME_HEIGHT, 480)\n",
    "    \n",
    "    display_handle=display(None, display_id=True)  # Create a display handle for updating the displayed content\n",
    "    while True:\n",
    "        # frame = picam2.capture_array()  # Capture a frame from the camera\n",
    "        _, frame = camera.read()\n",
    "        \n",
    "        # You can perform frame processing here if needed (e.g., flipping, color conversion, etc.)\n",
    "\n",
    "        _, frame = cv2.imencode('.jpeg', frame)  # Encode the frame as JPEG format\n",
    "        display_handle.update(Image(data=frame.tobytes()))  # Update the displayed image\n",
    "        if stopButton.value==True:  # Check if the stop button is pressed\n",
    "            # picam2.close()  # If yes, close the camera\n",
    "            cv2.release() # If yes, close the camera\n",
    "            display_handle.update(None)  # Clear the displayed content\n",
    "\n",
    "# Display the stop button\n",
    "display(stopButton)\n",
    "# Create and start a thread, with the target function as view and the stop button as the argument\n",
    "thread = threading.Thread(target=view, args=(stopButton,))\n",
    "thread.start()  # Start the thread"
   ]
  }
 ],
 "metadata": {
  "kernelspec": {
   "display_name": "Python 3 (ipykernel)",
   "language": "python",
   "name": "python3"
  },
  "language_info": {
   "codemirror_mode": {
    "name": "ipython",
    "version": 3
   },
   "file_extension": ".py",
   "mimetype": "text/x-python",
   "name": "python",
   "nbconvert_exporter": "python",
   "pygments_lexer": "ipython3",
   "version": "3.11.2"
  }
 },
 "nbformat": 4,
 "nbformat_minor": 5
}
